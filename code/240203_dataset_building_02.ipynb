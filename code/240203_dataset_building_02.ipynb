{
  "nbformat": 4,
  "nbformat_minor": 0,
  "metadata": {
    "colab": {
      "provenance": [],
      "gpuType": "T4"
    },
    "kernelspec": {
      "name": "python3",
      "display_name": "Python 3"
    },
    "language_info": {
      "name": "python"
    },
    "accelerator": "GPU"
  },
  "cells": [
    {
      "cell_type": "markdown",
      "source": [
        "03/02/2024\n",
        "This code has been copied from 2 notebooks:\n",
        "\n",
        "231215_dataset_building -> parts of resizing\n",
        "\n",
        "240131_nnproject_img_txt_topq -> the working parts, images written as bytes to parquet file, together with the description"
      ],
      "metadata": {
        "id": "zxPL5rMuEcZd"
      }
    },
    {
      "cell_type": "code",
      "source": [
        "import os, glob\n",
        "import pandas as pd\n",
        "import torch\n",
        "from torchvision import transforms\n",
        "from torch.utils.data import Dataset, DataLoader\n",
        "from PIL import Image, ImageOps, UnidentifiedImageError\n",
        "import pyarrow.parquet as pq\n",
        "import pyarrow as pa"
      ],
      "metadata": {
        "id": "SWj9rGv3j7eJ"
      },
      "execution_count": null,
      "outputs": []
    },
    {
      "cell_type": "code",
      "source": [
        "from google.colab import drive\n",
        "drive.mount('/content/drive')"
      ],
      "metadata": {
        "colab": {
          "base_uri": "https://localhost:8080/"
        },
        "id": "lHYFkPt9BLcP",
        "outputId": "acc695a8-fe31-4fa1-9383-0684f78f7405"
      },
      "execution_count": null,
      "outputs": [
        {
          "output_type": "stream",
          "name": "stdout",
          "text": [
            "Mounted at /content/drive\n"
          ]
        }
      ]
    },
    {
      "cell_type": "code",
      "source": [
        "# Path for input folder\n",
        "# data_folder = '/content/drive/MyDrive/cogsci - sem3/Advanced_applications_of_neural_networks/projekt/huggin-face/data'\n",
        "# 02/01/24\n",
        "data_folder = '/content/drive/MyDrive/cogsci - sem3/Advanced_applications_of_neural_networks/projekt/temporal'"
      ],
      "metadata": {
        "id": "soCyv9jQrwC0"
      },
      "execution_count": null,
      "outputs": []
    },
    {
      "cell_type": "markdown",
      "source": [
        "note that I changed the structure of the folders."
      ],
      "metadata": {
        "id": "5kIGqOz6J-Co"
      }
    },
    {
      "cell_type": "code",
      "source": [
        "output_folder = '/content/drive/MyDrive/cogsci - sem3/Advanced_applications_of_neural_networks/projekt/huggin-face/eco-archi/resized'"
      ],
      "metadata": {
        "id": "8idySuzwtS7t"
      },
      "execution_count": null,
      "outputs": []
    },
    {
      "cell_type": "markdown",
      "source": [
        "# 2 Process images - cropping to a given ratio and resizing"
      ],
      "metadata": {
        "id": "uX1OXAIbtAMI"
      }
    },
    {
      "cell_type": "code",
      "source": [
        "# Resize image to a ratio 16:9\n",
        "# if needed add white padding around the image\n",
        "def resize_16_9(file_path):\n",
        "    try:\n",
        "        # Image resolution\n",
        "        target_width = 255\n",
        "        target_height = 143\n",
        "\n",
        "        # Open image\n",
        "        with Image.open(file_path) as img:\n",
        "\n",
        "            # Current dimensions of the image\n",
        "            width, height = img.size\n",
        "\n",
        "            # Calculate the target height based on the 16:9 ratio\n",
        "            target_height_calculated = int((16 / 9) * width)\n",
        "\n",
        "            # Calculate the padding needed to achieve the 16:9 ratio\n",
        "            padding_top = max(0, (target_height - target_height_calculated) // 2)\n",
        "            padding_bottom = max(0, target_height - target_height_calculated - padding_top)\n",
        "\n",
        "            # Add white padding around the image\n",
        "            padded_img = ImageOps.pad(img, (target_width, target_height), method=0, color=(255, 255, 255))\n",
        "\n",
        "            # Save the processed image\n",
        "            output_path = os.path.join(output_folder, os.path.basename(file_path))\n",
        "            padded_img.save(output_path)\n",
        "            print(f\"Saved\")\n",
        "\n",
        "    except (UnidentifiedImageError, IOError) as e:\n",
        "        print(f\"Error processing {file_path}: {e}\")"
      ],
      "metadata": {
        "id": "GD6U5xmZAOjd"
      },
      "execution_count": null,
      "outputs": []
    },
    {
      "cell_type": "code",
      "source": [
        "# Process each image file\n",
        "def process_images_in_folder(folder_path, output_path, method):\n",
        "\n",
        "    global output_folder\n",
        "    output_folder = output_path\n",
        "    os.makedirs(output_folder, exist_ok=True)\n",
        "\n",
        "    files = [f for f in os.listdir(folder_path) if os.path.isfile(os.path.join(folder_path, f))]\n",
        "\n",
        "    # Process each image file\n",
        "    for file_name in files:\n",
        "        file_path = os.path.join(folder_path, file_name)\n",
        "        method(file_path)"
      ],
      "metadata": {
        "id": "H2HOIVucAVq2"
      },
      "execution_count": null,
      "outputs": []
    },
    {
      "cell_type": "code",
      "source": [
        "process_images_in_folder(data_folder, output_folder, resize_16_9)"
      ],
      "metadata": {
        "id": "vGdOLmKpAYFJ",
        "colab": {
          "base_uri": "https://localhost:8080/"
        },
        "outputId": "5e3f2553-2406-429b-d48b-90ec8e57641c"
      },
      "execution_count": null,
      "outputs": [
        {
          "output_type": "stream",
          "name": "stdout",
          "text": [
            "Saved\n",
            "Saved\n",
            "Saved\n",
            "Saved\n",
            "Saved\n",
            "Saved\n",
            "Saved\n",
            "Saved\n",
            "Saved\n",
            "Saved\n",
            "Saved\n",
            "Saved\n",
            "Saved\n",
            "Saved\n",
            "Saved\n",
            "Saved\n",
            "Saved\n",
            "Saved\n",
            "Saved\n",
            "Saved\n",
            "Saved\n",
            "Saved\n",
            "Saved\n",
            "Saved\n",
            "Saved\n",
            "Saved\n",
            "Saved\n",
            "Saved\n",
            "Saved\n",
            "Saved\n",
            "Saved\n",
            "Saved\n",
            "Saved\n",
            "Saved\n",
            "Saved\n",
            "Saved\n",
            "Saved\n",
            "Saved\n",
            "Saved\n",
            "Saved\n",
            "Saved\n",
            "Saved\n",
            "Saved\n",
            "Saved\n",
            "Saved\n",
            "Saved\n",
            "Saved\n",
            "Saved\n",
            "Saved\n",
            "Saved\n"
          ]
        }
      ]
    },
    {
      "cell_type": "markdown",
      "source": [
        "#3 Creating a dataset"
      ],
      "metadata": {
        "id": "OfIFNNX2vtxq"
      }
    },
    {
      "cell_type": "markdown",
      "source": [
        "The script is changed comparing to 15/12/24 because it contains code for parquet file with images described as bytes, instead of 3 rgb channels, and for each images there is a place for description.\n",
        "02/02/24 This script I used for 37 images I have description for.\n"
      ],
      "metadata": {
        "id": "X0YJpGgDi7EE"
      }
    },
    {
      "cell_type": "code",
      "source": [
        "import pyarrow as pa\n",
        "import numpy as np\n",
        "import PIL"
      ],
      "metadata": {
        "id": "e8yy90OXDylN"
      },
      "execution_count": null,
      "outputs": []
    },
    {
      "cell_type": "code",
      "source": [
        "data_folder = '/content/drive/MyDrive/cogsci - sem3/Advanced_applications_of_neural_networks/projekt/huggin-face/eco-archi/resized'"
      ],
      "metadata": {
        "id": "PNmrMc4lDfTv"
      },
      "execution_count": null,
      "outputs": []
    },
    {
      "cell_type": "code",
      "source": [
        "metadata = pd.read_csv('/content/drive/MyDrive/cogsci - sem3/Advanced_applications_of_neural_networks/projekt/huggin-face/metadata.csv')"
      ],
      "metadata": {
        "id": "XD2W8OxQDhKU"
      },
      "execution_count": null,
      "outputs": []
    },
    {
      "cell_type": "code",
      "source": [
        "df = metadata"
      ],
      "metadata": {
        "id": "LrQytx4AD2q8"
      },
      "execution_count": null,
      "outputs": []
    },
    {
      "cell_type": "code",
      "source": [
        "df[1:10]"
      ],
      "metadata": {
        "colab": {
          "base_uri": "https://localhost:8080/",
          "height": 331
        },
        "id": "B2ZTNe-ZF0sj",
        "outputId": "3706e0ab-0558-4b37-f050-f4d962abae1a"
      },
      "execution_count": null,
      "outputs": [
        {
          "output_type": "execute_result",
          "data": {
            "text/plain": [
              "                                           file_name  \\\n",
              "1     nordlicht-house-face-buro-florian-schatz_4.jpg   \n",
              "2  oficinas-polaris-north-b720-fermin-vazquez-arq...   \n",
              "3        pravaah-workplace-the-grid-architects_4.jpg   \n",
              "4              The_First_ECO-SANDWICH_House_(10).jpg   \n",
              "5  zen-spaces-residence-sanjay-puri-architects_1.jpg   \n",
              "6    04-marc-koehler-vtc-edegem-c-dennis-de-smet.jpg   \n",
              "7  biblioteca-de-sant-marti-sarroca-valor-llimos_...   \n",
              "8                       casa-ene-estudio-albar_1.jpg   \n",
              "9                                        dsc0588.jpg   \n",
              "\n",
              "                                                text folder_name  \n",
              "1  This is a detached house in a snowy landscape....     batch-1  \n",
              "2  This is a 5 floor office building in a pitched...     batch-1  \n",
              "3  This a small office building, which has a very...     batch-1  \n",
              "4  House is a unique example of a holistic and in...     batch-1  \n",
              "5  The house is a composition of cuboid volumes a...     batch-1  \n",
              "6  It is a regional center for culture and leisur...     batch-1  \n",
              "7  The library building is located inside the par...     batch-1  \n",
              "8  A house with a cork façade, wooden windows fac...     batch-1  \n",
              "9  House is places in a rocky plot, which has bee...     batch-1  "
            ],
            "text/html": [
              "\n",
              "  <div id=\"df-5bac17cb-a908-4391-8166-060d9a1138ce\" class=\"colab-df-container\">\n",
              "    <div>\n",
              "<style scoped>\n",
              "    .dataframe tbody tr th:only-of-type {\n",
              "        vertical-align: middle;\n",
              "    }\n",
              "\n",
              "    .dataframe tbody tr th {\n",
              "        vertical-align: top;\n",
              "    }\n",
              "\n",
              "    .dataframe thead th {\n",
              "        text-align: right;\n",
              "    }\n",
              "</style>\n",
              "<table border=\"1\" class=\"dataframe\">\n",
              "  <thead>\n",
              "    <tr style=\"text-align: right;\">\n",
              "      <th></th>\n",
              "      <th>file_name</th>\n",
              "      <th>text</th>\n",
              "      <th>folder_name</th>\n",
              "    </tr>\n",
              "  </thead>\n",
              "  <tbody>\n",
              "    <tr>\n",
              "      <th>1</th>\n",
              "      <td>nordlicht-house-face-buro-florian-schatz_4.jpg</td>\n",
              "      <td>This is a detached house in a snowy landscape....</td>\n",
              "      <td>batch-1</td>\n",
              "    </tr>\n",
              "    <tr>\n",
              "      <th>2</th>\n",
              "      <td>oficinas-polaris-north-b720-fermin-vazquez-arq...</td>\n",
              "      <td>This is a 5 floor office building in a pitched...</td>\n",
              "      <td>batch-1</td>\n",
              "    </tr>\n",
              "    <tr>\n",
              "      <th>3</th>\n",
              "      <td>pravaah-workplace-the-grid-architects_4.jpg</td>\n",
              "      <td>This a small office building, which has a very...</td>\n",
              "      <td>batch-1</td>\n",
              "    </tr>\n",
              "    <tr>\n",
              "      <th>4</th>\n",
              "      <td>The_First_ECO-SANDWICH_House_(10).jpg</td>\n",
              "      <td>House is a unique example of a holistic and in...</td>\n",
              "      <td>batch-1</td>\n",
              "    </tr>\n",
              "    <tr>\n",
              "      <th>5</th>\n",
              "      <td>zen-spaces-residence-sanjay-puri-architects_1.jpg</td>\n",
              "      <td>The house is a composition of cuboid volumes a...</td>\n",
              "      <td>batch-1</td>\n",
              "    </tr>\n",
              "    <tr>\n",
              "      <th>6</th>\n",
              "      <td>04-marc-koehler-vtc-edegem-c-dennis-de-smet.jpg</td>\n",
              "      <td>It is a regional center for culture and leisur...</td>\n",
              "      <td>batch-1</td>\n",
              "    </tr>\n",
              "    <tr>\n",
              "      <th>7</th>\n",
              "      <td>biblioteca-de-sant-marti-sarroca-valor-llimos_...</td>\n",
              "      <td>The library building is located inside the par...</td>\n",
              "      <td>batch-1</td>\n",
              "    </tr>\n",
              "    <tr>\n",
              "      <th>8</th>\n",
              "      <td>casa-ene-estudio-albar_1.jpg</td>\n",
              "      <td>A house with a cork façade, wooden windows fac...</td>\n",
              "      <td>batch-1</td>\n",
              "    </tr>\n",
              "    <tr>\n",
              "      <th>9</th>\n",
              "      <td>dsc0588.jpg</td>\n",
              "      <td>House is places in a rocky plot, which has bee...</td>\n",
              "      <td>batch-1</td>\n",
              "    </tr>\n",
              "  </tbody>\n",
              "</table>\n",
              "</div>\n",
              "    <div class=\"colab-df-buttons\">\n",
              "\n",
              "  <div class=\"colab-df-container\">\n",
              "    <button class=\"colab-df-convert\" onclick=\"convertToInteractive('df-5bac17cb-a908-4391-8166-060d9a1138ce')\"\n",
              "            title=\"Convert this dataframe to an interactive table.\"\n",
              "            style=\"display:none;\">\n",
              "\n",
              "  <svg xmlns=\"http://www.w3.org/2000/svg\" height=\"24px\" viewBox=\"0 -960 960 960\">\n",
              "    <path d=\"M120-120v-720h720v720H120Zm60-500h600v-160H180v160Zm220 220h160v-160H400v160Zm0 220h160v-160H400v160ZM180-400h160v-160H180v160Zm440 0h160v-160H620v160ZM180-180h160v-160H180v160Zm440 0h160v-160H620v160Z\"/>\n",
              "  </svg>\n",
              "    </button>\n",
              "\n",
              "  <style>\n",
              "    .colab-df-container {\n",
              "      display:flex;\n",
              "      gap: 12px;\n",
              "    }\n",
              "\n",
              "    .colab-df-convert {\n",
              "      background-color: #E8F0FE;\n",
              "      border: none;\n",
              "      border-radius: 50%;\n",
              "      cursor: pointer;\n",
              "      display: none;\n",
              "      fill: #1967D2;\n",
              "      height: 32px;\n",
              "      padding: 0 0 0 0;\n",
              "      width: 32px;\n",
              "    }\n",
              "\n",
              "    .colab-df-convert:hover {\n",
              "      background-color: #E2EBFA;\n",
              "      box-shadow: 0px 1px 2px rgba(60, 64, 67, 0.3), 0px 1px 3px 1px rgba(60, 64, 67, 0.15);\n",
              "      fill: #174EA6;\n",
              "    }\n",
              "\n",
              "    .colab-df-buttons div {\n",
              "      margin-bottom: 4px;\n",
              "    }\n",
              "\n",
              "    [theme=dark] .colab-df-convert {\n",
              "      background-color: #3B4455;\n",
              "      fill: #D2E3FC;\n",
              "    }\n",
              "\n",
              "    [theme=dark] .colab-df-convert:hover {\n",
              "      background-color: #434B5C;\n",
              "      box-shadow: 0px 1px 3px 1px rgba(0, 0, 0, 0.15);\n",
              "      filter: drop-shadow(0px 1px 2px rgba(0, 0, 0, 0.3));\n",
              "      fill: #FFFFFF;\n",
              "    }\n",
              "  </style>\n",
              "\n",
              "    <script>\n",
              "      const buttonEl =\n",
              "        document.querySelector('#df-5bac17cb-a908-4391-8166-060d9a1138ce button.colab-df-convert');\n",
              "      buttonEl.style.display =\n",
              "        google.colab.kernel.accessAllowed ? 'block' : 'none';\n",
              "\n",
              "      async function convertToInteractive(key) {\n",
              "        const element = document.querySelector('#df-5bac17cb-a908-4391-8166-060d9a1138ce');\n",
              "        const dataTable =\n",
              "          await google.colab.kernel.invokeFunction('convertToInteractive',\n",
              "                                                    [key], {});\n",
              "        if (!dataTable) return;\n",
              "\n",
              "        const docLinkHtml = 'Like what you see? Visit the ' +\n",
              "          '<a target=\"_blank\" href=https://colab.research.google.com/notebooks/data_table.ipynb>data table notebook</a>'\n",
              "          + ' to learn more about interactive tables.';\n",
              "        element.innerHTML = '';\n",
              "        dataTable['output_type'] = 'display_data';\n",
              "        await google.colab.output.renderOutput(dataTable, element);\n",
              "        const docLink = document.createElement('div');\n",
              "        docLink.innerHTML = docLinkHtml;\n",
              "        element.appendChild(docLink);\n",
              "      }\n",
              "    </script>\n",
              "  </div>\n",
              "\n",
              "\n",
              "<div id=\"df-f8b21900-5d51-414f-8956-3580c1232139\">\n",
              "  <button class=\"colab-df-quickchart\" onclick=\"quickchart('df-f8b21900-5d51-414f-8956-3580c1232139')\"\n",
              "            title=\"Suggest charts\"\n",
              "            style=\"display:none;\">\n",
              "\n",
              "<svg xmlns=\"http://www.w3.org/2000/svg\" height=\"24px\"viewBox=\"0 0 24 24\"\n",
              "     width=\"24px\">\n",
              "    <g>\n",
              "        <path d=\"M19 3H5c-1.1 0-2 .9-2 2v14c0 1.1.9 2 2 2h14c1.1 0 2-.9 2-2V5c0-1.1-.9-2-2-2zM9 17H7v-7h2v7zm4 0h-2V7h2v10zm4 0h-2v-4h2v4z\"/>\n",
              "    </g>\n",
              "</svg>\n",
              "  </button>\n",
              "\n",
              "<style>\n",
              "  .colab-df-quickchart {\n",
              "      --bg-color: #E8F0FE;\n",
              "      --fill-color: #1967D2;\n",
              "      --hover-bg-color: #E2EBFA;\n",
              "      --hover-fill-color: #174EA6;\n",
              "      --disabled-fill-color: #AAA;\n",
              "      --disabled-bg-color: #DDD;\n",
              "  }\n",
              "\n",
              "  [theme=dark] .colab-df-quickchart {\n",
              "      --bg-color: #3B4455;\n",
              "      --fill-color: #D2E3FC;\n",
              "      --hover-bg-color: #434B5C;\n",
              "      --hover-fill-color: #FFFFFF;\n",
              "      --disabled-bg-color: #3B4455;\n",
              "      --disabled-fill-color: #666;\n",
              "  }\n",
              "\n",
              "  .colab-df-quickchart {\n",
              "    background-color: var(--bg-color);\n",
              "    border: none;\n",
              "    border-radius: 50%;\n",
              "    cursor: pointer;\n",
              "    display: none;\n",
              "    fill: var(--fill-color);\n",
              "    height: 32px;\n",
              "    padding: 0;\n",
              "    width: 32px;\n",
              "  }\n",
              "\n",
              "  .colab-df-quickchart:hover {\n",
              "    background-color: var(--hover-bg-color);\n",
              "    box-shadow: 0 1px 2px rgba(60, 64, 67, 0.3), 0 1px 3px 1px rgba(60, 64, 67, 0.15);\n",
              "    fill: var(--button-hover-fill-color);\n",
              "  }\n",
              "\n",
              "  .colab-df-quickchart-complete:disabled,\n",
              "  .colab-df-quickchart-complete:disabled:hover {\n",
              "    background-color: var(--disabled-bg-color);\n",
              "    fill: var(--disabled-fill-color);\n",
              "    box-shadow: none;\n",
              "  }\n",
              "\n",
              "  .colab-df-spinner {\n",
              "    border: 2px solid var(--fill-color);\n",
              "    border-color: transparent;\n",
              "    border-bottom-color: var(--fill-color);\n",
              "    animation:\n",
              "      spin 1s steps(1) infinite;\n",
              "  }\n",
              "\n",
              "  @keyframes spin {\n",
              "    0% {\n",
              "      border-color: transparent;\n",
              "      border-bottom-color: var(--fill-color);\n",
              "      border-left-color: var(--fill-color);\n",
              "    }\n",
              "    20% {\n",
              "      border-color: transparent;\n",
              "      border-left-color: var(--fill-color);\n",
              "      border-top-color: var(--fill-color);\n",
              "    }\n",
              "    30% {\n",
              "      border-color: transparent;\n",
              "      border-left-color: var(--fill-color);\n",
              "      border-top-color: var(--fill-color);\n",
              "      border-right-color: var(--fill-color);\n",
              "    }\n",
              "    40% {\n",
              "      border-color: transparent;\n",
              "      border-right-color: var(--fill-color);\n",
              "      border-top-color: var(--fill-color);\n",
              "    }\n",
              "    60% {\n",
              "      border-color: transparent;\n",
              "      border-right-color: var(--fill-color);\n",
              "    }\n",
              "    80% {\n",
              "      border-color: transparent;\n",
              "      border-right-color: var(--fill-color);\n",
              "      border-bottom-color: var(--fill-color);\n",
              "    }\n",
              "    90% {\n",
              "      border-color: transparent;\n",
              "      border-bottom-color: var(--fill-color);\n",
              "    }\n",
              "  }\n",
              "</style>\n",
              "\n",
              "  <script>\n",
              "    async function quickchart(key) {\n",
              "      const quickchartButtonEl =\n",
              "        document.querySelector('#' + key + ' button');\n",
              "      quickchartButtonEl.disabled = true;  // To prevent multiple clicks.\n",
              "      quickchartButtonEl.classList.add('colab-df-spinner');\n",
              "      try {\n",
              "        const charts = await google.colab.kernel.invokeFunction(\n",
              "            'suggestCharts', [key], {});\n",
              "      } catch (error) {\n",
              "        console.error('Error during call to suggestCharts:', error);\n",
              "      }\n",
              "      quickchartButtonEl.classList.remove('colab-df-spinner');\n",
              "      quickchartButtonEl.classList.add('colab-df-quickchart-complete');\n",
              "    }\n",
              "    (() => {\n",
              "      let quickchartButtonEl =\n",
              "        document.querySelector('#df-f8b21900-5d51-414f-8956-3580c1232139 button');\n",
              "      quickchartButtonEl.style.display =\n",
              "        google.colab.kernel.accessAllowed ? 'block' : 'none';\n",
              "    })();\n",
              "  </script>\n",
              "</div>\n",
              "    </div>\n",
              "  </div>\n"
            ]
          },
          "metadata": {},
          "execution_count": 13
        }
      ]
    },
    {
      "cell_type": "code",
      "source": [
        "df[df[\"file_name\"]==\"gurdau-winery-ales-fiala_5.jpg\"]"
      ],
      "metadata": {
        "colab": {
          "base_uri": "https://localhost:8080/",
          "height": 81
        },
        "id": "cX0gSUtjGbqL",
        "outputId": "73d793ae-39d1-4f88-a50e-47e7c0b8d8fb"
      },
      "execution_count": null,
      "outputs": [
        {
          "output_type": "execute_result",
          "data": {
            "text/plain": [
              "                         file_name  \\\n",
              "11  gurdau-winery-ales-fiala_5.jpg   \n",
              "\n",
              "                                                 text folder_name  \n",
              "11  This is a wine house integrated into the lands...     batch-1  "
            ],
            "text/html": [
              "\n",
              "  <div id=\"df-793d6aa5-e570-4553-9006-7796c5c562a8\" class=\"colab-df-container\">\n",
              "    <div>\n",
              "<style scoped>\n",
              "    .dataframe tbody tr th:only-of-type {\n",
              "        vertical-align: middle;\n",
              "    }\n",
              "\n",
              "    .dataframe tbody tr th {\n",
              "        vertical-align: top;\n",
              "    }\n",
              "\n",
              "    .dataframe thead th {\n",
              "        text-align: right;\n",
              "    }\n",
              "</style>\n",
              "<table border=\"1\" class=\"dataframe\">\n",
              "  <thead>\n",
              "    <tr style=\"text-align: right;\">\n",
              "      <th></th>\n",
              "      <th>file_name</th>\n",
              "      <th>text</th>\n",
              "      <th>folder_name</th>\n",
              "    </tr>\n",
              "  </thead>\n",
              "  <tbody>\n",
              "    <tr>\n",
              "      <th>11</th>\n",
              "      <td>gurdau-winery-ales-fiala_5.jpg</td>\n",
              "      <td>This is a wine house integrated into the lands...</td>\n",
              "      <td>batch-1</td>\n",
              "    </tr>\n",
              "  </tbody>\n",
              "</table>\n",
              "</div>\n",
              "    <div class=\"colab-df-buttons\">\n",
              "\n",
              "  <div class=\"colab-df-container\">\n",
              "    <button class=\"colab-df-convert\" onclick=\"convertToInteractive('df-793d6aa5-e570-4553-9006-7796c5c562a8')\"\n",
              "            title=\"Convert this dataframe to an interactive table.\"\n",
              "            style=\"display:none;\">\n",
              "\n",
              "  <svg xmlns=\"http://www.w3.org/2000/svg\" height=\"24px\" viewBox=\"0 -960 960 960\">\n",
              "    <path d=\"M120-120v-720h720v720H120Zm60-500h600v-160H180v160Zm220 220h160v-160H400v160Zm0 220h160v-160H400v160ZM180-400h160v-160H180v160Zm440 0h160v-160H620v160ZM180-180h160v-160H180v160Zm440 0h160v-160H620v160Z\"/>\n",
              "  </svg>\n",
              "    </button>\n",
              "\n",
              "  <style>\n",
              "    .colab-df-container {\n",
              "      display:flex;\n",
              "      gap: 12px;\n",
              "    }\n",
              "\n",
              "    .colab-df-convert {\n",
              "      background-color: #E8F0FE;\n",
              "      border: none;\n",
              "      border-radius: 50%;\n",
              "      cursor: pointer;\n",
              "      display: none;\n",
              "      fill: #1967D2;\n",
              "      height: 32px;\n",
              "      padding: 0 0 0 0;\n",
              "      width: 32px;\n",
              "    }\n",
              "\n",
              "    .colab-df-convert:hover {\n",
              "      background-color: #E2EBFA;\n",
              "      box-shadow: 0px 1px 2px rgba(60, 64, 67, 0.3), 0px 1px 3px 1px rgba(60, 64, 67, 0.15);\n",
              "      fill: #174EA6;\n",
              "    }\n",
              "\n",
              "    .colab-df-buttons div {\n",
              "      margin-bottom: 4px;\n",
              "    }\n",
              "\n",
              "    [theme=dark] .colab-df-convert {\n",
              "      background-color: #3B4455;\n",
              "      fill: #D2E3FC;\n",
              "    }\n",
              "\n",
              "    [theme=dark] .colab-df-convert:hover {\n",
              "      background-color: #434B5C;\n",
              "      box-shadow: 0px 1px 3px 1px rgba(0, 0, 0, 0.15);\n",
              "      filter: drop-shadow(0px 1px 2px rgba(0, 0, 0, 0.3));\n",
              "      fill: #FFFFFF;\n",
              "    }\n",
              "  </style>\n",
              "\n",
              "    <script>\n",
              "      const buttonEl =\n",
              "        document.querySelector('#df-793d6aa5-e570-4553-9006-7796c5c562a8 button.colab-df-convert');\n",
              "      buttonEl.style.display =\n",
              "        google.colab.kernel.accessAllowed ? 'block' : 'none';\n",
              "\n",
              "      async function convertToInteractive(key) {\n",
              "        const element = document.querySelector('#df-793d6aa5-e570-4553-9006-7796c5c562a8');\n",
              "        const dataTable =\n",
              "          await google.colab.kernel.invokeFunction('convertToInteractive',\n",
              "                                                    [key], {});\n",
              "        if (!dataTable) return;\n",
              "\n",
              "        const docLinkHtml = 'Like what you see? Visit the ' +\n",
              "          '<a target=\"_blank\" href=https://colab.research.google.com/notebooks/data_table.ipynb>data table notebook</a>'\n",
              "          + ' to learn more about interactive tables.';\n",
              "        element.innerHTML = '';\n",
              "        dataTable['output_type'] = 'display_data';\n",
              "        await google.colab.output.renderOutput(dataTable, element);\n",
              "        const docLink = document.createElement('div');\n",
              "        docLink.innerHTML = docLinkHtml;\n",
              "        element.appendChild(docLink);\n",
              "      }\n",
              "    </script>\n",
              "  </div>\n",
              "\n",
              "    </div>\n",
              "  </div>\n"
            ]
          },
          "metadata": {},
          "execution_count": 14
        }
      ]
    },
    {
      "cell_type": "code",
      "source": [
        "records = []"
      ],
      "metadata": {
        "id": "hC8DXP_2D5Sr"
      },
      "execution_count": null,
      "outputs": []
    },
    {
      "cell_type": "code",
      "source": [
        "for img_name in df['file_name']:\n",
        "            img_path = os.path.join(data_folder, img_name)\n",
        "            # Check if the file exists\n",
        "            if os.path.isfile(img_path):\n",
        "                text_data = str(df.loc[df['file_name'] == img_name, 'text'].values[0])  # Convert to string\n",
        "                with PIL.Image.open(img_path) as im:\n",
        "                  records.append({\n",
        "                    \"image\": im.tobytes(),\n",
        "                    \"text\": text_data\n",
        "                    })\n",
        "            else:\n",
        "                print(f\"Warning: File not found - {img_path}\")"
      ],
      "metadata": {
        "id": "QlK9dA2iD74V"
      },
      "execution_count": null,
      "outputs": []
    },
    {
      "cell_type": "code",
      "source": [
        "# Convert the list of records to a Pandas DataFrame\n",
        "df_records = pd.DataFrame(records)"
      ],
      "metadata": {
        "id": "dWBFcGShD8e0"
      },
      "execution_count": null,
      "outputs": []
    },
    {
      "cell_type": "code",
      "source": [
        "# just in case there were any\n",
        "# df_records.dropna(inplace=True)"
      ],
      "metadata": {
        "id": "rAmc8dIdD-fD"
      },
      "execution_count": null,
      "outputs": []
    },
    {
      "cell_type": "code",
      "source": [
        "# check if there are any missing data\n",
        "len(df) == len(df_records)"
      ],
      "metadata": {
        "colab": {
          "base_uri": "https://localhost:8080/"
        },
        "id": "cdtzaekMHF3r",
        "outputId": "4bb776b4-68c5-43a7-992d-f541403ef3ec"
      },
      "execution_count": null,
      "outputs": [
        {
          "output_type": "execute_result",
          "data": {
            "text/plain": [
              "True"
            ]
          },
          "metadata": {},
          "execution_count": 33
        }
      ]
    },
    {
      "cell_type": "code",
      "source": [
        "df_records"
      ],
      "metadata": {
        "id": "Tradh-8ZD_0c"
      },
      "execution_count": null,
      "outputs": []
    },
    {
      "cell_type": "code",
      "source": [
        "table = pa.Table.from_pylist(records)"
      ],
      "metadata": {
        "id": "Sc6GXGmFECYH"
      },
      "execution_count": null,
      "outputs": []
    },
    {
      "cell_type": "code",
      "source": [
        "parquet_name = \"data_bytes_240302\""
      ],
      "metadata": {
        "id": "aTMKsXKCHTYB"
      },
      "execution_count": null,
      "outputs": []
    },
    {
      "cell_type": "code",
      "source": [
        "parquet_file_path = f\"/content/drive/MyDrive/cogsci - sem3/Advanced_applications_of_neural_networks/projekt/huggin-face/arch-facade2s/train/{parquet_name}.parquet\"\n",
        "pa.parquet.write_table(table, parquet_file_path)"
      ],
      "metadata": {
        "id": "fJMmk_giEEAc"
      },
      "execution_count": null,
      "outputs": []
    },
    {
      "cell_type": "markdown",
      "source": [
        "now I am checking again if the image is showing properly"
      ],
      "metadata": {
        "id": "Z2LZQVqfEGfc"
      }
    },
    {
      "cell_type": "code",
      "source": [
        "table4 = pq.read_table(f'/content/drive/MyDrive/cogsci - sem3/Advanced_applications_of_neural_networks/projekt/huggin-face/arch-facade2s/train/{parquet_name}.parquet')"
      ],
      "metadata": {
        "id": "5ZxH5VrHEIfr"
      },
      "execution_count": null,
      "outputs": []
    },
    {
      "cell_type": "code",
      "source": [
        "df_4 = table4.to_pandas()"
      ],
      "metadata": {
        "id": "Fb35acviEKXr"
      },
      "execution_count": null,
      "outputs": []
    },
    {
      "cell_type": "code",
      "source": [
        "# Get the 'image' column from the PyArrow Table\n",
        "image_column = table['image']\n",
        "\n",
        "# Convert the Arrow Array to a NumPy array\n",
        "image_np = np.frombuffer(image_column[0].as_py(), dtype=np.uint8)\n",
        "\n",
        "# Replace these placeholders with the actual dimensions of your original images\n",
        "original_height = 143\n",
        "original_width = 255\n",
        "original_channels = 3\n",
        "\n",
        "original_shape = (original_height, original_width, original_channels)\n",
        "\n",
        "# Reshape the flattened array back to the original shape\n",
        "reshaped_image = np.reshape(image_np, original_shape)\n",
        "\n",
        "# Convert NumPy array to PIL Image\n",
        "image = PIL.Image.fromarray(reshaped_image)\n",
        "\n",
        "# Display the image\n",
        "image.show()"
      ],
      "metadata": {
        "id": "GViV_UYMEOoU"
      },
      "execution_count": null,
      "outputs": []
    },
    {
      "cell_type": "code",
      "source": [
        "# Save the image to a temporary file\n",
        "image.save('temporary_image2.png')\n",
        "\n",
        "# Open the saved image using a system default image viewer\n",
        "import subprocess\n",
        "subprocess.run(['open', 'temporary_image2.png'])"
      ],
      "metadata": {
        "colab": {
          "base_uri": "https://localhost:8080/"
        },
        "id": "9L6adkq7EQP0",
        "outputId": "f25b7e8b-57e0-4a45-ff9c-88ecbf790967"
      },
      "execution_count": null,
      "outputs": [
        {
          "output_type": "execute_result",
          "data": {
            "text/plain": [
              "CompletedProcess(args=['open', 'temporary_image2.png'], returncode=3)"
            ]
          },
          "metadata": {},
          "execution_count": 42
        }
      ]
    },
    {
      "cell_type": "markdown",
      "source": [
        "now I need to solve the problems with\n",
        "1. so in the folder resized, several of my images that I have text (caption) for are missing\n",
        "2. and I am thinking that perhaps I should upload all my images I have a text for, into one folder\n",
        "3. again copy the code for resizing\n",
        "4. and thereafter take the above code to run it to finally have a proper *.parquet file\n",
        "5. which I can upload in my dataset in hugginface\n",
        "6. after that I can try to implement this:\n",
        "https://colab.research.google.com/github/huggingface/notebooks/blob/main/examples/image_captioning_blip.ipynb#scrollTo=93od71o_qq_V\n",
        "7. however, I am not sure if this kind of representation is suitable for the next steps, which is dreambooth and"
      ],
      "metadata": {
        "id": "kTxxlJ8xESYL"
      }
    },
    {
      "cell_type": "markdown",
      "source": [
        "yeah it turned out about right, it is impossible to read the data"
      ],
      "metadata": {
        "id": "sNhTNz_0PJ98"
      }
    },
    {
      "cell_type": "code",
      "source": [
        "!pip install -q datasets"
      ],
      "metadata": {
        "colab": {
          "base_uri": "https://localhost:8080/"
        },
        "id": "n_6wy734PhxD",
        "outputId": "426c0bd3-a5f7-416c-ff84-b2398e1a58a6"
      },
      "execution_count": null,
      "outputs": [
        {
          "output_type": "stream",
          "name": "stdout",
          "text": [
            "\u001b[2K     \u001b[90m━━━━━━━━━━━━━━━━━━━━━━━━━━━━━━━━━━━━━━━━\u001b[0m \u001b[32m507.1/507.1 kB\u001b[0m \u001b[31m9.9 MB/s\u001b[0m eta \u001b[36m0:00:00\u001b[0m\n",
            "\u001b[2K     \u001b[90m━━━━━━━━━━━━━━━━━━━━━━━━━━━━━━━━━━━━━━━━\u001b[0m \u001b[32m115.3/115.3 kB\u001b[0m \u001b[31m13.5 MB/s\u001b[0m eta \u001b[36m0:00:00\u001b[0m\n",
            "\u001b[2K     \u001b[90m━━━━━━━━━━━━━━━━━━━━━━━━━━━━━━━━━━━━━━━━\u001b[0m \u001b[32m134.8/134.8 kB\u001b[0m \u001b[31m15.8 MB/s\u001b[0m eta \u001b[36m0:00:00\u001b[0m\n",
            "\u001b[2K     \u001b[90m━━━━━━━━━━━━━━━━━━━━━━━━━━━━━━━━━━━━━━━━\u001b[0m \u001b[32m134.8/134.8 kB\u001b[0m \u001b[31m15.4 MB/s\u001b[0m eta \u001b[36m0:00:00\u001b[0m\n",
            "\u001b[?25h"
          ]
        }
      ]
    },
    {
      "cell_type": "code",
      "source": [
        "from datasets import Features, Image, Value\n",
        "\n",
        "features = Features({\"image\": Image(), \"text\": Value(\"string\")})\n",
        "schema = features.arrow_schema\n",
        "print(schema.metadata)\n",
        "# {b'huggingface': b'{\"info\": {\"features\": {\"image\": {\"_type\": \"Image\"}, \"text\": {\"dtype\": \"string\", \"_type\": \"Value\"}}}}'}"
      ],
      "metadata": {
        "colab": {
          "base_uri": "https://localhost:8080/"
        },
        "id": "E8_ZP1XgPJj8",
        "outputId": "f691efed-3bfd-45a1-e017-44c6be43062b"
      },
      "execution_count": null,
      "outputs": [
        {
          "output_type": "stream",
          "name": "stdout",
          "text": [
            "{b'huggingface': b'{\"info\": {\"features\": {\"image\": {\"_type\": \"Image\"}, \"text\": {\"dtype\": \"string\", \"_type\": \"Value\"}}}}'}\n"
          ]
        }
      ]
    },
    {
      "cell_type": "code",
      "source": [
        "from datasets import load_dataset"
      ],
      "metadata": {
        "id": "o3O1uDTMQf0E"
      },
      "execution_count": null,
      "outputs": []
    },
    {
      "cell_type": "code",
      "source": [
        "dataset_builder"
      ],
      "metadata": {
        "id": "ddLOZSZiQiaj"
      },
      "execution_count": null,
      "outputs": []
    },
    {
      "cell_type": "code",
      "source": [
        "load_dataset"
      ],
      "metadata": {
        "id": "cBZHDUOtPmWM"
      },
      "execution_count": null,
      "outputs": []
    },
    {
      "cell_type": "code",
      "source": [
        "PIL.JpegImagePlugin.JpegImageFile"
      ],
      "metadata": {
        "id": "JhvckV0xZicG",
        "outputId": "cc2a2cf2-134d-4abb-c90a-b57e16afe959",
        "colab": {
          "base_uri": "https://localhost:8080/"
        }
      },
      "execution_count": null,
      "outputs": [
        {
          "output_type": "execute_result",
          "data": {
            "text/plain": [
              "PIL.JpegImagePlugin.JpegImageFile"
            ]
          },
          "metadata": {},
          "execution_count": 47
        }
      ]
    },
    {
      "cell_type": "markdown",
      "source": [
        "230203 It turned out it's not necessary to have *.parquet file uploaded in huggingface, nevertheless in the future I want to have this type of file. Uploading metadata.csv to image file does the work."
      ],
      "metadata": {
        "id": "aWHPCvZUiith"
      }
    }
  ]
}